{
 "cells": [
  {
   "cell_type": "markdown",
   "id": "fe59a1d4",
   "metadata": {},
   "source": [
    "# Project: Cardio Good Fitness - Data Analysis\n",
    "\n",
    "## Objective\n",
    "\n",
    "* Come up with a customer profile (characteristics of a customer) of the different products\n",
    "* Perform univariate and multivariate analyses\n",
    "* Generate a set of insights and recommendations that will help the company in targeting new customers.\n",
    "\n",
    "Analysis has been devided into four sections\n",
    "\n",
    "- <a href = #link1>Understanding the structure of the data</a>\n",
    "- <a href = #link2>Univariate Data Analysis</a>\n",
    "- <a href = #link3>Multivariate Data Analysis</a>\n",
    "- <a href = #link4>Conclusion and Recommendations</a>"
   ]
  },
  {
   "cell_type": "markdown",
   "id": "9104b1ca",
   "metadata": {},
   "source": [
    "## <a name='link1'>**Understanding the structure of the data**</a>\n",
    "Overview of the dataset shape, datatypes - Statistical summary and check for missing values"
   ]
  },
  {
   "cell_type": "code",
   "execution_count": null,
   "id": "345130cc",
   "metadata": {},
   "outputs": [],
   "source": [
    "# import required packages - numpy, pandas, matplotlib and seaborn\n",
    "import numpy as np\n",
    "import pandas as pd\n",
    "import matplotlib.pyplot as plt\n",
    "import seaborn as sns\n",
    "%matplotlib inline"
   ]
  },
  {
   "cell_type": "code",
   "execution_count": null,
   "id": "34de441b",
   "metadata": {},
   "outputs": [],
   "source": [
    "# load the dataset\n",
    "data = pd.read_csv('CardioGoodFitness.csv')\n",
    "data.head(10) # Check first 10 rows of the data"
   ]
  },
  {
   "cell_type": "code",
   "execution_count": null,
   "id": "65dc4cb3",
   "metadata": {},
   "outputs": [],
   "source": [
    "data.info() # Print a concise summary of the data - row count, columns, nulls, data types etc."
   ]
  },
  {
   "cell_type": "code",
   "execution_count": null,
   "id": "4c43ba88",
   "metadata": {},
   "outputs": [],
   "source": [
    "data.shape # check no. of rows and columns"
   ]
  },
  {
   "cell_type": "markdown",
   "id": "3b5ce2c2",
   "metadata": {},
   "source": [
    "> **Observation**: There are **180** rows and **9** columns in the dataset"
   ]
  },
  {
   "cell_type": "code",
   "execution_count": null,
   "id": "072c9040",
   "metadata": {},
   "outputs": [],
   "source": [
    "data.describe() # Satistical summary of the numerical data types"
   ]
  },
  {
   "cell_type": "markdown",
   "id": "681d6684",
   "metadata": {},
   "source": [
    "> **Observations**\n",
    "> * Customers' age varies from 18 to 50 years with mean of 29 years, 75% customers are within 33 years\n",
    "> * Education varies from 12 to 21 years with mean of 16 years\n",
    "> * Weekly usage hours vary from 2 to 7 with mean of 3.4 hours\n",
    "> * Fitness varies from 1(lowest) to 5(highest: very fit), since the range is 1 to 5 we can use this a categorical as well\n",
    "> * Income varies from 29k to 104k with 54k as mean standard deviation of ~16k\n",
    "> * Miles from 21 to 360 with mean of 103 and standard deviation of ~52\n",
    "\n",
    "#### Check the range of values for categorical variables - Product, Gender and MaritalStatus"
   ]
  },
  {
   "cell_type": "code",
   "execution_count": null,
   "id": "f1e32b41",
   "metadata": {},
   "outputs": [],
   "source": [
    "data['Product'].value_counts().sort_values(ascending=False)"
   ]
  },
  {
   "cell_type": "markdown",
   "id": "f05ae7ec",
   "metadata": {},
   "source": [
    "> **Observation**: There are three different types of Fitness products."
   ]
  },
  {
   "cell_type": "code",
   "execution_count": null,
   "id": "2a2569b4",
   "metadata": {},
   "outputs": [],
   "source": [
    "data['Gender'].value_counts()"
   ]
  },
  {
   "cell_type": "markdown",
   "id": "be4459c3",
   "metadata": {},
   "source": [
    "> **Observation**: Expectedly there are two values in Gender column, Male (104 datapoints) and Female (76 datapoints)"
   ]
  },
  {
   "cell_type": "code",
   "execution_count": null,
   "id": "e558b95d",
   "metadata": {},
   "outputs": [],
   "source": [
    "data['MaritalStatus'].value_counts()"
   ]
  },
  {
   "cell_type": "markdown",
   "id": "ff173ba9",
   "metadata": {},
   "source": [
    "> **Observation**: Marital status has two values Partnered (107 datapoints) and Single (73 datapoints)"
   ]
  },
  {
   "cell_type": "code",
   "execution_count": null,
   "id": "851b045b",
   "metadata": {},
   "outputs": [],
   "source": [
    "data.isnull().sum() # check for null values, it seems there are no nulls"
   ]
  },
  {
   "cell_type": "markdown",
   "id": "d014dfac",
   "metadata": {},
   "source": [
    "> **Observation**: There no **null** values in the dataset"
   ]
  },
  {
   "cell_type": "markdown",
   "id": "6adae977",
   "metadata": {},
   "source": [
    "## <a name='link2'>**Univariate Data Analysis**</a>\n",
    "This section show the analysis and distribution of every feature and important observations. \n",
    "\n",
    "#### Check the different Cardio Good Fitness products in the sample dataset."
   ]
  },
  {
   "cell_type": "code",
   "execution_count": null,
   "id": "d3457d15",
   "metadata": {},
   "outputs": [],
   "source": [
    "# Use countplot to plot the number of products and show their percentages\n",
    "ax = sns.countplot(data=data, x='Product');\n",
    "ax.set(ylabel='Product Count', title='Product Count and Percent of Total');\n",
    "# add percentages to bars\n",
    "for c in ax.containers:\n",
    "    labels = [f'{h/data.Product.count()*100:0.2f}%' if (h := v.get_height()) > 0 else '' for v in c]\n",
    "    ax.bar_label(c, labels=labels, label_type='edge')"
   ]
  },
  {
   "cell_type": "markdown",
   "id": "603f4b6a",
   "metadata": {},
   "source": [
    "> **Observation**: **TM195** is most popular product with a share of 44% followed by **TM498** and **TM798** models.\n",
    "\n",
    "Check the count of products based on the other categorical values\n",
    "* Fitness\n",
    "* Gender\n",
    "* Marital Status"
   ]
  },
  {
   "cell_type": "code",
   "execution_count": null,
   "id": "4f0cf6e7",
   "metadata": {
    "scrolled": true
   },
   "outputs": [],
   "source": [
    "# Add three plots in a row using figure and subpots\n",
    "sns.set_style(\"darkgrid\", {\"axes.facecolor\": \".9\"}) # Customize seaborn style\n",
    "fig = plt.figure(figsize=(14,5))\n",
    "\n",
    "# Add the first plot\n",
    "ax1 = fig.add_subplot(131)\n",
    "ax1.set_title('Products by Fitness')\n",
    "sns.histplot(data=data, x='Fitness', hue='Product', multiple='stack', ax=ax1)\n",
    "\n",
    "# Add the second plot\n",
    "ax2 = fig.add_subplot(132)\n",
    "ax2.set_title('Products by Gender')\n",
    "sns.countplot(data=data, x='Gender', hue='Product', ax=ax2)\n",
    "\n",
    "# Add the third plot\n",
    "ax3 = fig.add_subplot(133)\n",
    "ax3.set_title('Products by Marital Status')\n",
    "sns.histplot(data=data, y='MaritalStatus', hue='Product', multiple='dodge', ax=ax3)\n",
    "\n",
    "plt.tight_layout()"
   ]
  },
  {
   "cell_type": "markdown",
   "id": "4a7215a4",
   "metadata": {},
   "source": [
    "> **Observations**\n",
    "> * Most of the customers belong to Fitness category 3 where popular products are **TM195** and **TM498**\n",
    "> * **TM798** is popular with higher fitness customers specially category 5\n",
    "> * **TM798** is not very popular with Female customers\n",
    "> * Partnered customers are more than single customers \n",
    "\n",
    "Next let's check the spread of all numerical variables visually using box and violin plots as below. "
   ]
  },
  {
   "cell_type": "code",
   "execution_count": null,
   "id": "1056fbe4",
   "metadata": {},
   "outputs": [],
   "source": [
    "sns.set_palette('deep')\n",
    "fig = plt.figure(figsize=(15,10))\n",
    "\n",
    "# Adding subplot arrangement to keep the visuals side by side for comparision\n",
    "ax = fig.add_subplot(231)\n",
    "plt.title('Spread by Age')\n",
    "sns.boxplot(data=data, x='Product', y='Age', whis=1.75) # Normally whisker is 1.5 time of IQR but here setting to 1.75\n",
    "\n",
    "ax = fig.add_subplot(232)\n",
    "plt.title('Spread by Education')\n",
    "sns.boxplot(data=data, x='Product', y='Education')\n",
    "\n",
    "ax = fig.add_subplot(233)\n",
    "plt.title('Spread by Income')\n",
    "sns.boxplot(data=data, x='Product', y='Income')\n",
    "\n",
    "ax = fig.add_subplot(234)\n",
    "plt.title('Spread by Fitness')\n",
    "sns.violinplot(data=data, x='Product', y='Fitness')\n",
    "\n",
    "ax = fig.add_subplot(235)\n",
    "plt.title('Spread by Usage')\n",
    "sns.boxplot(data=data, x='Product', y='Usage')\n",
    "\n",
    "ax = fig.add_subplot(236)\n",
    "plt.title('Spread by Miles')\n",
    "sns.boxplot(data=data, x='Product', y='Miles')\n",
    "\n",
    "plt.tight_layout()"
   ]
  },
  {
   "cell_type": "markdown",
   "id": "c73b666a",
   "metadata": {},
   "source": [
    "> **Observations**\n",
    "> * *Age*: Age IQR for TM798 is younger than other two models although there are few outliers even with whisker 1.75\n",
    "> * *Education*: TM798 is more popular with people having higher level of education.\n",
    "> * *Income*: TM798 is more popular with people having higher level of income. \n",
    "> * *Fitness*: As seen earlier TM798 is preferred by higher fitness customers.\n",
    "> * *Usage*: Usage of TM498 model is less than other two models. TM798 has highest usage.\n",
    "> * *Miles*: Again customers having TM798 model run more miles than the other two models"
   ]
  },
  {
   "cell_type": "markdown",
   "id": "8e3cb14a",
   "metadata": {},
   "source": [
    "#### Lets segment the customers into smaller groups based on age, income and education.\n",
    "* Age Groups: <30, 30-40, 40-50\n",
    "* Income Groups: <40k, 40k-80k, <80k\n",
    "* Education Groups: HS (High School, 12y of Education), UG (Under graduate or 16y of education), PG (Post Graduate)"
   ]
  },
  {
   "cell_type": "code",
   "execution_count": null,
   "id": "7730ea2d",
   "metadata": {},
   "outputs": [],
   "source": [
    "# Use Panda's cut function to segment and sort data values into bins\n",
    "data['AgeGroup'] = pd.cut(data.Age, bins=[10, 30, 40, 50], include_lowest=False, labels=['<30', '30-40', '40-50'])\n",
    "data['IncomeGroup'] = pd.cut(data.Income, bins=[25000,40000,80000,120000], include_lowest=False, labels=['<40k', '40k-80k', '>80k'])\n",
    "data['EducationGroup'] = pd.cut(data.Education, bins=[10,12,16,30], include_lowest=False, labels=['HS', 'UG', 'PG'])"
   ]
  },
  {
   "cell_type": "markdown",
   "id": "6a55dc8f",
   "metadata": {},
   "source": [
    "Check count of products based on simple countplots across the above custom groups"
   ]
  },
  {
   "cell_type": "code",
   "execution_count": null,
   "id": "300602dd",
   "metadata": {},
   "outputs": [],
   "source": [
    "fig = plt.figure(figsize=(14,5))\n",
    "# Adding subplot arrangement to keep the visuals side by side for comparision\n",
    "ax = fig.add_subplot(131)\n",
    "plt.title('Products by AgeGroup ')\n",
    "sns.countplot(data=data, x='AgeGroup', hue='Product')\n",
    "\n",
    "ax = fig.add_subplot(132)\n",
    "plt.title('Products by IncomeGroup')\n",
    "sns.countplot(data=data, x='IncomeGroup', hue='Product')\n",
    "\n",
    "ax = fig.add_subplot(133)\n",
    "plt.title('Products by EducationGroup')\n",
    "g = sns.countplot(data=data, x='EducationGroup', hue='Product')\n",
    "\n",
    "plt.tight_layout()"
   ]
  },
  {
   "cell_type": "markdown",
   "id": "7a9ad1ee",
   "metadata": {},
   "source": [
    "> **Observations**\n",
    "> * Most of the customers are within 30. TM195 is very much preferred by young customers. \n",
    "> * Not many customers within age group 40 to 50 years.\n",
    "> * No datapoints for TM798 for customers who earn less than 40k.\n",
    "> * No datapoints for TM195 and TM498 for customers who earn more than 80k.\n",
    "> * Very less observations for customers having HS education, if the sample is purly random we can infer that customers having only HS education are not interested in buying exercise equipments.\n",
    "> * As seen previously TM798 is preferred by higher educated people"
   ]
  },
  {
   "cell_type": "markdown",
   "id": "835bccbb",
   "metadata": {},
   "source": [
    "Below plot shows the probably distribution of Miles with respect to each Product:"
   ]
  },
  {
   "cell_type": "code",
   "execution_count": null,
   "id": "2cca9729",
   "metadata": {},
   "outputs": [],
   "source": [
    "fig = plt.figure(figsize=(10,5))\n",
    "sns.set_style('whitegrid')\n",
    "sns.histplot(data=data, x='Miles', kde=True, hue='Product', element='step', stat='probability');"
   ]
  },
  {
   "cell_type": "markdown",
   "id": "8ad1abf6",
   "metadata": {},
   "source": [
    "> **Observations**\n",
    "> * Customers having TM195 and TM498 models have higher probability around 100 miles usage\n",
    "> * Customers having TM798 model has higher propablity of running more miles than 150\n",
    "\n",
    "The below plot shows frequency distribution of Age across products:"
   ]
  },
  {
   "cell_type": "code",
   "execution_count": null,
   "id": "a217d4ab",
   "metadata": {},
   "outputs": [],
   "source": [
    "fig = plt.figure(figsize=(14,5))\n",
    "ax1 = fig.add_subplot(121)\n",
    "sns.histplot(data=data, x='Age', kde=True, hue='Product', stat='frequency', ax=ax1);\n",
    "ax1.set(title='Frequency Distribution of Age');\n",
    "\n",
    "ax2 = fig.add_subplot(122)\n",
    "sns.histplot(data=data, x='Age', kde=True, hue='Product', stat='frequency', element='poly', ax=ax2);\n",
    "ax2.set(title='Frequency Distribution of Age (Zoomed In)');\n",
    "# Zoom in betweeen 20 to 40 years of Age\n",
    "ax2.set_xlim([20,40]);\n",
    "ax2.set_xticks(range(20,41,2));\n",
    "\n",
    "# Show the median age of TM195 in blue line\n",
    "TM195_Median_Age = data[data['Product']=='TM195']['Age'].median()\n",
    "ax2.axvline(TM195_Median_Age, color='b', linestyle='--');\n",
    "\n",
    "# Show the median age of TM498 in blue line\n",
    "TM498_Median_Age = data[data['Product']=='TM498']['Age'].median()\n",
    "ax2.axvline(TM498_Median_Age, color='r', linestyle='-.');\n",
    "\n",
    "# Show the median age of TM798 in blue line\n",
    "TM798_Median_Age = data[data['Product']=='TM798']['Age'].median()\n",
    "ax2.axvline(TM798_Median_Age, color='g', linestyle=':');\n"
   ]
  },
  {
   "cell_type": "markdown",
   "id": "dffe511e",
   "metadata": {},
   "source": [
    "> **Observations** \n",
    "> * Customers around 25/26 years of age are the most frequent buyers of these Prodcuts. Age has a right skew.\n",
    "> * TM498 also has frequent buyers around 34 years age. \n",
    "> * The median age of customers for TM195 and TM498 overlaps and is 26. \n",
    "> * TM798 has median age around 27 years.\n",
    "\n",
    "The below plot shows income density distribution of customers across products:"
   ]
  },
  {
   "cell_type": "code",
   "execution_count": null,
   "id": "763a75dd",
   "metadata": {},
   "outputs": [],
   "source": [
    "g=sns.displot(data=data, x='Income', kind='kde', hue='Product', rug=True, aspect=2);\n",
    "g.set_xticklabels(rotation=90);\n",
    "\n",
    "#g.axes[0][0] => to get the AxesSubplot from this FacetGrid\n",
    "ax = g.axes[0][0]\n",
    "\n",
    "# Show the median age of TM195 in blue line\n",
    "TM195_Median_Income = data[data['Product']=='TM195']['Income'].median()\n",
    "ax.axvline(TM195_Median_Income, color='b', linestyle='--');\n",
    "\n",
    "# Show the median age of TM498 in Orange line\n",
    "TM498_Median_Income = data[data['Product']=='TM498']['Income'].median()\n",
    "ax.axvline(TM498_Median_Income, color='#FF5733', linestyle='-.');\n",
    "\n",
    "# Show the median age of TM798 in green line\n",
    "TM798_Median_Income = data[data['Product']=='TM798']['Income'].median()\n",
    "ax.axvline(TM798_Median_Income, color='g', linestyle='--');"
   ]
  },
  {
   "cell_type": "markdown",
   "id": "63b938d6",
   "metadata": {},
   "source": [
    "> **Observations**\n",
    "> * Most of the customers owning TM195 have income density between 30k to 60k, TM498: 40k to 60k.\n",
    "> * As seen previously most customers having TM798 have income density over 60k \n",
    "> * Median income for TM498 is little higher than TM195\n",
    "> * Median income for TM798 is much higher than TM498 and TM195\n",
    "\n",
    "We can also use Pandas Profiling to quickly analyze all univariate variables and more as given below:"
   ]
  },
  {
   "cell_type": "code",
   "execution_count": null,
   "id": "94522158",
   "metadata": {},
   "outputs": [],
   "source": [
    "# Install pandas porfiling if it is not installed\n",
    "# !pip install pandas-profiling\n",
    "import pandas_profiling"
   ]
  },
  {
   "cell_type": "code",
   "execution_count": null,
   "id": "437a5904",
   "metadata": {},
   "outputs": [],
   "source": [
    "data.profile_report() # Generate a profile report for Univariate analysis"
   ]
  },
  {
   "cell_type": "markdown",
   "id": "1f8e1745",
   "metadata": {},
   "source": [
    "## <a name='link3'>**Multivariate Data Analysis**</a>\n",
    "Analysis of interaction between features, in the dataset and important observations\n",
    "\n",
    "Checking the correlation of numerical variables in the dataset and followed by a heat map. This gives important insights how they are related. "
   ]
  },
  {
   "cell_type": "code",
   "execution_count": null,
   "id": "82aab68c",
   "metadata": {
    "scrolled": true
   },
   "outputs": [],
   "source": [
    "data.corr()"
   ]
  },
  {
   "cell_type": "code",
   "execution_count": null,
   "id": "c9b7b8c2",
   "metadata": {},
   "outputs": [],
   "source": [
    "plt.figure(figsize=(12,6))\n",
    "sns.heatmap(data.corr(), annot=True, cmap='Spectral');"
   ]
  },
  {
   "cell_type": "markdown",
   "id": "39b91904",
   "metadata": {},
   "source": [
    "> **Observations**\n",
    "> * With age, income increases in general (corr=0.51)\n",
    "> * Data does not suggest any significant correlation with Age and Fitness\n",
    "> * Customers having higher education have higher income (corr=0.63)\n",
    "> * Customers having higher usage, run more miles and vice versa (corr=0.76)\n",
    "> * Customers who use the products more have higher fitness (corr=0.67)\n",
    "\n",
    "In the following visuals we will see some of the relations in more details"
   ]
  },
  {
   "cell_type": "code",
   "execution_count": null,
   "id": "23e46d5b",
   "metadata": {},
   "outputs": [],
   "source": [
    "# Liner regression model between education and income for different product models and marital status\n",
    "sns.lmplot(data=data, x='Education', y='Income', col='MaritalStatus', hue='Product');"
   ]
  },
  {
   "cell_type": "code",
   "execution_count": null,
   "id": "8f05b576",
   "metadata": {},
   "outputs": [],
   "source": [
    "plt.figure(figsize=(10,5))\n",
    "sns.stripplot(data=data, x='Education', y='Income', hue='Product', jitter=0.2);"
   ]
  },
  {
   "cell_type": "markdown",
   "id": "c09a4ccd",
   "metadata": {},
   "source": [
    "> **Observations**: (above two plots)\n",
    "> * Customers with higher education and higher income level prefer TM798. \n",
    "> * With same education level, higher income customers prefer TM498 over TM195 when they are single\n",
    "> * Based on the customer income levels and their preferences on models, it appears that TM798 is premium model followed by TM498 and TM195 "
   ]
  },
  {
   "cell_type": "code",
   "execution_count": null,
   "id": "760dfa8b",
   "metadata": {},
   "outputs": [],
   "source": [
    "# Relationship between usage and fitness of customers\n",
    "sns.relplot(data=data, x='Usage', y='Fitness', col='MaritalStatus', size='Gender', kind='line');"
   ]
  },
  {
   "cell_type": "markdown",
   "id": "401d7556",
   "metadata": {},
   "source": [
    "> **Observation**: Usage and Fitness has a strong correlation. Customers who use more of the exercise quipments are more fit and vice versa."
   ]
  },
  {
   "cell_type": "code",
   "execution_count": null,
   "id": "b6c40e34",
   "metadata": {},
   "outputs": [],
   "source": [
    "# Relation between Age and Fitness\n",
    "sns.set_theme() # set to default theme\n",
    "plt.figure(figsize=(10,5))\n",
    "sns.swarmplot(data=data, x='Fitness', y='Age', hue='Product');"
   ]
  },
  {
   "cell_type": "code",
   "execution_count": null,
   "id": "164b5239",
   "metadata": {},
   "outputs": [],
   "source": [
    "# Relation between Age and Miles run based on Gender, Product and Fitness\n",
    "sns.relplot(data=data, x='Miles', y='Age', col='Gender', hue='Product', size='Fitness', sizes=(10, 150));"
   ]
  },
  {
   "cell_type": "markdown",
   "id": "8d69f34f",
   "metadata": {},
   "source": [
    "> **Observations**: (swarmplot:Fitness/Age and relplot:Miles/Age)\n",
    "> * There no strong correlation as such beween Age (18-50) and Fitness or Miles run\n",
    "> * Most of the customers belong to Fitness level 3 (swarm plot)\n",
    "> * Customers having fitness level 5 mostly prefer TM798 and run higher Miles and Male customers are more in this category"
   ]
  },
  {
   "cell_type": "code",
   "execution_count": null,
   "id": "e23aecb7",
   "metadata": {},
   "outputs": [],
   "source": [
    "# Liner regression model plot based of Miles and Fitness based Gender and MaritalStatus\n",
    "sns.lmplot(data=data, x='Miles', y='Fitness', col='MaritalStatus', hue='Gender', y_jitter=0.5);"
   ]
  },
  {
   "cell_type": "markdown",
   "id": "75c02df7",
   "metadata": {},
   "source": [
    "> **Observation**: As expected, Miles and Fitness have strong correlation regarless of gender and marital status."
   ]
  },
  {
   "cell_type": "code",
   "execution_count": null,
   "id": "ff0b2ba6",
   "metadata": {},
   "outputs": [],
   "source": [
    "sns.set_theme()\n",
    "# Joint plot of Income and Miles to show bivariate and univariate analysis\n",
    "sns.jointplot(data=data, x='Income', y='Miles', hue='Product');"
   ]
  },
  {
   "cell_type": "markdown",
   "id": "2aeb8109",
   "metadata": {},
   "source": [
    "> **Observations**\n",
    "> * Most of the customers having TM195 and TM498 models falls between 25k to 75k income group and runs upto 150 miles\n",
    "> * TM798 customers are from higher income group and run higher miles although the spread is higher than other two models. \n",
    "\n",
    "We can also use pairplot to analyze more than two numerical variables at a time as depicted below, since (Income, Education) and (Usage, Miles, Fitness) pairs are correlated we can reduce the dimention of pairplot to Age, Income and Usage."
   ]
  },
  {
   "cell_type": "code",
   "execution_count": null,
   "id": "e3567194",
   "metadata": {},
   "outputs": [],
   "source": [
    "sns.pairplot(data=data[['Age','Income','Usage','Product']], hue='Product', diag_kind='kde', height=3, aspect=1.2);"
   ]
  },
  {
   "cell_type": "markdown",
   "id": "24a43a3c",
   "metadata": {},
   "source": [
    "> **Observations** \n",
    "> * Yonger customers, with higher (Usage, Fitness, Miles) and (Income, Education) prefer TM798\n",
    "> * Customers of TM195 and TM498 ovarlap, although younger customers in this category having higher income prefer TM498"
   ]
  },
  {
   "cell_type": "markdown",
   "id": "cd2a967b",
   "metadata": {},
   "source": [
    "## <a name='link4'>**Conclusion and Recommendations**</a>\n",
    "Concluding remarks with key observations and recommendations\n",
    "\n",
    "- <a href = #link5>Customers Demographic Observations</a>\n",
    "- <a href = #link6>Product Observations</a>\n",
    "- <a href = #link7>Customers Buying Preference Observations</a>\n",
    "- <a href = #link8>Recommendations</a>\n"
   ]
  },
  {
   "cell_type": "markdown",
   "id": "a3de1005",
   "metadata": {},
   "source": [
    "### <a name='link5'>**Customers Demographic Observations**</a>\n",
    "* Customers are between 18 to 50 years of age, with average age around 29. \n",
    "* Most of the customer population are young to middle aged (20 to 40)\n",
    "* Most of the customers are having 16 years or more of education. \n",
    "* Most of the customers want to use these Cardio fitness products for 3 to 4 hours per week and run for about 50 to 150 Miles \n",
    "* Most of the customers consider themselves as midum fit (3), althogh there are many customers belongs to fitness 4 and 5.\n",
    "* Around 58% customers are Male and 42% are Female\n",
    "* Around 60% customers having Partners and 40% are Single\n",
    "* Customers who use these products more are more fit and run for more miles, data shows strong correlation.\n",
    "* There is no strong correlation between customers income, age or education to fitness. \n",
    "\n",
    "### <a name='link6'>**Product Observations**</a>\n",
    "* TM195 has the largest market share about 45% followed by TM498 and TM798\n",
    "* About 78% market share is from TM195 and TM498\n",
    "* TM798 may be the most expensive product followed by TM498 (mid range) and TM195\n",
    "* TM798 is preferred by customers having higher income and education or with fitness level 4/5\n",
    "\n",
    "### <a name='link7'>**Customers Buying Preference Observations**</a>\n",
    "\n",
    "We can also get insights of customers buying preferences based on certain demographics, for this we do the below additional analysis :-"
   ]
  },
  {
   "cell_type": "code",
   "execution_count": null,
   "id": "384dc8a7",
   "metadata": {},
   "outputs": [],
   "source": [
    "# Group by MaritalStatus, Gender and order by number of observations desc\n",
    "df_age_group = data.groupby(['Gender','MaritalStatus'], as_index=False).agg({'Usage': 'mean', 'Miles': 'mean', 'Product': 'count'}).sort_values('Product', ascending=False)\n",
    "df_age_group['BuyingPercent']=((df_age_group['Product'] / df_age_group['Product'].sum())*100).round(2).astype(str) + '%'\n",
    "df_age_group"
   ]
  },
  {
   "cell_type": "code",
   "execution_count": null,
   "id": "bdeb212d",
   "metadata": {},
   "outputs": [],
   "source": [
    "# Seeing visually the number of products based on Marital Status and Gender\n",
    "g = sns.FacetGrid(data, col=\"Product\", hue=\"Fitness\", row='Gender', height=4, aspect=1)\n",
    "g.map(sns.countplot, \"MaritalStatus\", order=['Partnered', 'Single']);\n",
    "g.add_legend();"
   ]
  },
  {
   "cell_type": "code",
   "execution_count": null,
   "id": "b09edd7e",
   "metadata": {},
   "outputs": [],
   "source": [
    "# Group by products based on Education, Income and Fitness\n",
    "data.groupby(['Product'])[['Education', 'Income', 'Fitness']].agg(['median', 'max', 'min', 'count'])"
   ]
  },
  {
   "cell_type": "code",
   "execution_count": null,
   "id": "5db9e51f",
   "metadata": {},
   "outputs": [],
   "source": [
    "# Count of products based on Income groups, Marital Status and Gender\n",
    "g = sns.FacetGrid(data, col=\"Gender\", row='MaritalStatus', hue=\"Product\", height=4, aspect=1.25)\n",
    "g.map(sns.countplot, \"IncomeGroup\", order=['<40k','40k-80k','>80k']);\n",
    "g.add_legend();"
   ]
  },
  {
   "cell_type": "markdown",
   "id": "d46aa3ca",
   "metadata": {},
   "source": [
    "> **Observations**\n",
    "\n",
    "* Partnered Male and Female customers are got to customers for the company followed by Male Single and Female Single\n",
    "* Partnered Female customers mostly have bought model TM195.\n",
    "\n",
    "* Customers with higher income and education mostly bought TM798 model.\n",
    "* Customers with Fitness level 5 have mostly bought TM798 model.\n",
    "* When comparing TM195 and TM498, customers having higher income normally preferred TM498\n",
    "* Lower income group customers prefer to settle with TM195 model.\n",
    "* Female customers have not preferred much TM798 model specially over the age of 40.\n",
    "* Customers having Fitness level 3 or lower prefer to buy TM195 model but if the income is higher he/she may go for TM498.\n",
    "\n",
    "\n",
    "### <a name='link8'>**Recommendations**</a>\n",
    "* Since most customers are young to middle age, company needs to make an effor to reach and understand the needs of older customers (40 and older) to increase the sales and revenue.\n",
    "* Some of the customers having Fitness level 5 have bought TM195, since TM798 is the preferred model for higher Fitness customers, company can offer upgrade plan to these customers.\n",
    "* Similarly to increase the revenue, company can provide upgrade plan for customers having model TM498 to move to TM798.\n",
    "* A survey can be run to understand the needs of Female Single customers to increase their market share.\n",
    "* A survey can be conducted to know why Female customers are not going for TM798. If required company can launch a new product targetting to higher income and educated Female customers."
   ]
  }
 ],
 "metadata": {
  "kernelspec": {
   "display_name": "Python 3 (ipykernel)",
   "language": "python",
   "name": "python3"
  },
  "language_info": {
   "codemirror_mode": {
    "name": "ipython",
    "version": 3
   },
   "file_extension": ".py",
   "mimetype": "text/x-python",
   "name": "python",
   "nbconvert_exporter": "python",
   "pygments_lexer": "ipython3",
   "version": "3.9.7"
  }
 },
 "nbformat": 4,
 "nbformat_minor": 5
}
